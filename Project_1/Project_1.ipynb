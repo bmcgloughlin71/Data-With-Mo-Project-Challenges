{
 "cells": [
  {
   "cell_type": "markdown",
   "id": "ba038966",
   "metadata": {},
   "source": [
    "# Project 1 - Data science job postings on Glassdoor\n",
    "\n",
    "## Questions \n",
    "1) Can you make the salary column into integers?\n",
    "2) What information can you extract out of job descriptions?\n",
    "3) How can you remove the numbers from the company name?\n",
    "4) How can you create some new feature? (e.g. state column from each location column)"
   ]
  },
  {
   "cell_type": "code",
   "execution_count": 1,
   "id": "82f61f06",
   "metadata": {},
   "outputs": [],
   "source": [
    "import pandas as pd\n",
    "import matplotlib.pyplot as plt\n",
    "\n",
    "df = pd.read_csv(\"./Uncleaned_DS_jobs.csv\")"
   ]
  },
  {
   "cell_type": "code",
   "execution_count": 2,
   "id": "465486a0",
   "metadata": {},
   "outputs": [],
   "source": [
    "# 1. Can you make the salary column into integers?\n",
    "\n",
    "# Check if any null values in 'Salary Estimate' column\n",
    "if df['Salary Estimate'].isnull().any():\n",
    "    print(\"Null values present in 'Salary Estimate' column\")\n",
    "\n",
    "# Extract min and max salary using a function\n",
    "def extract_salary(salary_range):\n",
    "    salary_values = salary_range.replace(\"$\", \"\").replace(\"K\", \"\").split(\"(\")[0].split(\"-\")\n",
    "    return int(salary_values[0]), int(salary_values[1])\n",
    "\n",
    "# Apply the function to create new 'Min Salary' and 'Max Salary' columns\n",
    "df[['Min Salary', 'Max Salary']] = df['Salary Estimate'].apply(extract_salary).apply(pd.Series)\n"
   ]
  },
  {
   "cell_type": "code",
   "execution_count": 3,
   "id": "a6680d8a",
   "metadata": {},
   "outputs": [
    {
     "data": {
      "image/png": "[encoded data removed]",
      "text/plain": [
       "<Figure size 640x480 with 1 Axes>"
      ]
     },
     "metadata": {},
     "output_type": "display_data"
    }
   ],
   "source": [
    "# 2. What information can you extract out of job descriptions?\n",
    "\n",
    "# Check if any null values in 'Job Descriptions' column\n",
    "if df['Job Description'].isnull().any():\n",
    "    print(\"Null values present in 'Job Description' column\")\n",
    "    \n",
    "num_descriptions = (len(df['Job Description']))\n",
    "\n",
    "# We can count how often a certain programming language is mentioned\n",
    "languages = {\"Python\": 0, \"SQL\": 0,\"R \": 0, \"C \": 0, \"C++\": 0, \"C#\": 0,\"Bash\": 0, \"Ruby\": 0, \"JS\": 0, \"Rust\": 0,\"Java \": 0}\n",
    "\n",
    "for description in df['Job Description']:\n",
    "    for language in languages.keys():\n",
    "        if language in description:\n",
    "            languages[language] += 1\n",
    "\n",
    "language = list(languages.keys())\n",
    "values = [i/num_descriptions for i in list(languages.values())]\n",
    "\n",
    "#Plot bar chart\n",
    "plt.bar(language, values)\n",
    "plt.ylabel(\"% of Job Posts\")\n",
    "plt.xlabel(\"Programming Language\")\n",
    "plt.title(\"Mentions of Coding Languages in Job Posts\")\n",
    "plt.show()"
   ]
  },
  {
   "cell_type": "code",
   "execution_count": 4,
   "id": "a0ef2a5c",
   "metadata": {},
   "outputs": [],
   "source": [
    "# 3) How can you remove the numbers from the company name?\n",
    "\n",
    "# Check if any null values in 'Company Name' column\n",
    "if df['Company Name'].isnull().any():\n",
    "    print(\"Null values present in 'Company Name' column\")\n",
    "\n",
    "def remove_numbers(company_name):\n",
    "    no_num_name = company_name.split(\"\\n\")\n",
    "    return no_num_name[0]\n",
    "\n",
    "\n",
    "\n",
    "# Apply the function to update Company_Name column\n",
    "df[['Company Name']] = df['Company Name'].apply(remove_numbers).apply(pd.Series)"
   ]
  },
  {
   "cell_type": "code",
   "execution_count": 5,
   "id": "3ad83318",
   "metadata": {},
   "outputs": [],
   "source": [
    "# 4) How can you create some new feature? (e.g. state column from each location column)\n",
    "\n",
    "# Check if any null values in 'Locations' column\n",
    "if df['Location'].isnull().any():\n",
    "    print(\"Null values present in 'Locations' column\")\n",
    "\n",
    "# Clean entries that do not follow the format \"city, state\"\n",
    "indices_to_clean = []\n",
    "for idx, state in enumerate(df['Location']):\n",
    "    split = state.split(\",\")\n",
    "    if len(split) <= 1:\n",
    "        if df['Location'][idx] == \"New Jersey\":\n",
    "            df.loc[idx, 'Location'] = \"NJ\"\n",
    "        elif df['Location'][idx] == \"Utah\":\n",
    "            df.loc[idx, 'Location'] = \"UT\"\n",
    "        elif df['Location'][idx] == \"Texas\":\n",
    "            df.loc[idx, 'Location'] = \"TX\"\n",
    "        elif df['Location'][idx] == \"California\":\n",
    "            df.loc[idx, 'Location'] = \"CA\"\n",
    "        else:\n",
    "            df.loc[idx, 'Location'] = \"Not Specified\"\n",
    "        \n",
    "        \n",
    "def get_state(location):\n",
    "    state = location.split(\",\")\n",
    "    return state[1] if len(state) > 1 else state[0]\n",
    "\n",
    "\n",
    "\n",
    "# Apply the function to create 'State' column\n",
    "df[['State']] = df['Location'].apply(get_state).apply(pd.Series)"
   ]
  }
 ],
 "metadata": {
  "kernelspec": {
   "display_name": "Python 3 (ipykernel)",
   "language": "python",
   "name": "python3"
  },
  "language_info": {
   "codemirror_mode": {
    "name": "ipython",
    "version": 3
   },
   "file_extension": ".py",
   "mimetype": "text/x-python",
   "name": "python",
   "nbconvert_exporter": "python",
   "pygments_lexer": "ipython3",
   "version": "3.10.12"
  }
 },
 "nbformat": 4,
 "nbformat_minor": 5
}
