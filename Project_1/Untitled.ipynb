{
 "cells": [
  {
   "cell_type": "code",
   "execution_count": 3,
   "id": "ecfe3185",
   "metadata": {},
   "outputs": [],
   "source": [
    "## Questions ##\n",
    "#- Can you make the salary column into integers?\n",
    "#- What information can you extract out of job descriptions?\n",
    "#- How can you remove the numbers from the company name?\n",
    "#- How can you create some new feature? (e.g. state column from each location column)\n",
    "\n",
    "import pandas as pd\n",
    "\n",
    "df = pd.read_csv(\"./Uncleaned_DS_jobs.csv\")"
   ]
  },
  {
   "cell_type": "code",
   "execution_count": 43,
   "id": "b4ae7d55",
   "metadata": {},
   "outputs": [],
   "source": [
    "#- Can you make the salary column into integers?\n",
    "\n",
    "\n",
    "# Check if any null values in 'Salary Estimate' column\n",
    "if df['Salary Estimate'].isnull().any():\n",
    "    print(\"Null values present in 'Salary Estimate' column\")\n",
    "\n",
    "# Extract min and max salary using a function\n",
    "def extract_salary(salary_range):\n",
    "    salary_values = salary_range.replace(\"$\", \"\").replace(\"K\", \"\").split(\"(\")[0].split(\"-\")\n",
    "    return int(salary_values[0]), int(salary_values[1])\n",
    "\n",
    "# Apply the function to create new 'Min Salary' and 'Max Salary' columns\n",
    "df[['Min Salary', 'Max Salary']] = df['Salary Estimate'].apply(extract_salary).apply(pd.Series)\n"
   ]
  },
  {
   "cell_type": "code",
   "execution_count": 46,
   "id": "f6a89be2",
   "metadata": {},
   "outputs": [],
   "source": [
    "#- What informatio can you extract out of job descriptions?\n"
   ]
  }
 ],
 "metadata": {
  "kernelspec": {
   "display_name": "Python 3 (ipykernel)",
   "language": "python",
   "name": "python3"
  },
  "language_info": {
   "codemirror_mode": {
    "name": "ipython",
    "version": 3
   },
   "file_extension": ".py",
   "mimetype": "text/x-python",
   "name": "python",
   "nbconvert_exporter": "python",
   "pygments_lexer": "ipython3",
   "version": "3.10.12"
  }
 },
 "nbformat": 4,
 "nbformat_minor": 5
}
