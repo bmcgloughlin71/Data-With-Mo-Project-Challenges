{
 "cells": [
  {
   "cell_type": "markdown",
   "id": "6fa4ecfc",
   "metadata": {},
   "source": [
    "## Project 2 (Data Analysis) (WIP)\n",
    "### Stack Overflow annual developer survey\n",
    "\n",
    "\n",
    "1) At what companies do developers get paid the most?\n",
    "2) How much does remote working matter to employees?\n",
    "3) What's the most popular method of learning to code?\n",
    "4) Are you more likely to get a job as a developer if you have a master's degree?\n"
   ]
  },
  {
   "cell_type": "code",
   "execution_count": 28,
   "id": "a6fcf736",
   "metadata": {},
   "outputs": [
    {
     "name": "stdout",
     "output_type": "stream",
     "text": [
      "['ResponseId', 'Q120', 'MainBranch', 'Age', 'Employment', 'RemoteWork', 'CodingActivities', 'EdLevel', 'LearnCode', 'LearnCodeOnline', 'LearnCodeCoursesCert', 'YearsCode', 'YearsCodePro', 'DevType', 'OrgSize', 'PurchaseInfluence', 'TechList', 'BuyNewTool', 'Country', 'Currency', 'CompTotal', 'LanguageHaveWorkedWith', 'LanguageWantToWorkWith', 'DatabaseHaveWorkedWith', 'DatabaseWantToWorkWith', 'PlatformHaveWorkedWith', 'PlatformWantToWorkWith', 'WebframeHaveWorkedWith', 'WebframeWantToWorkWith', 'MiscTechHaveWorkedWith', 'MiscTechWantToWorkWith', 'ToolsTechHaveWorkedWith', 'ToolsTechWantToWorkWith', 'NEWCollabToolsHaveWorkedWith', 'NEWCollabToolsWantToWorkWith', 'OpSysPersonal use', 'OpSysProfessional use', 'OfficeStackAsyncHaveWorkedWith', 'OfficeStackAsyncWantToWorkWith', 'OfficeStackSyncHaveWorkedWith', 'OfficeStackSyncWantToWorkWith', 'AISearchHaveWorkedWith', 'AISearchWantToWorkWith', 'AIDevHaveWorkedWith', 'AIDevWantToWorkWith', 'NEWSOSites', 'SOVisitFreq', 'SOAccount', 'SOPartFreq', 'SOComm', 'SOAI', 'AISelect', 'AISent', 'AIAcc', 'AIBen', 'AIToolInterested in Using', 'AIToolCurrently Using', 'AIToolNot interested in Using', 'AINextVery different', 'AINextNeither different nor similar', 'AINextSomewhat similar', 'AINextVery similar', 'AINextSomewhat different', 'TBranch', 'ICorPM', 'WorkExp', 'Knowledge_1', 'Knowledge_2', 'Knowledge_3', 'Knowledge_4', 'Knowledge_5', 'Knowledge_6', 'Knowledge_7', 'Knowledge_8', 'Frequency_1', 'Frequency_2', 'Frequency_3', 'TimeSearching', 'TimeAnswering', 'ProfessionalTech', 'Industry', 'SurveyLength', 'SurveyEase', 'ConvertedCompYearly']\n",
      "['qid', 'qname', 'question', 'force_resp', 'type', 'selector']\n"
     ]
    }
   ],
   "source": [
    "import pandas as pd\n",
    "import re\n",
    "from datetime import datetime\n",
    "import requests\n",
    "\n",
    "\n",
    "df = pd.read_csv(\"survey_results_public.csv\")\n",
    "df_schema = pd.read_csv(\"survey_results_schema.csv\")\n",
    "\n",
    "pd.set_option('display.max_rows', None)\n",
    "pd.set_option('display.max_columns', None)\n",
    "pd.set_option('display.width', None)\n",
    "pd.set_option('display.max_colwidth', None)\n",
    "\n",
    "print(list(df))\n",
    "print(list(df_schema))"
   ]
  },
  {
   "cell_type": "code",
   "execution_count": 29,
   "id": "4cb12355",
   "metadata": {},
   "outputs": [
    {
     "name": "stderr",
     "output_type": "stream",
     "text": [
      "/tmp/ipykernel_158918/4008653894.py:11: SettingWithCopyWarning: \n",
      "A value is trying to be set on a copy of a slice from a DataFrame.\n",
      "Try using .loc[row_indexer,col_indexer] = value instead\n",
      "\n",
      "See the caveats in the documentation: https://pandas.pydata.org/pandas-docs/stable/user_guide/indexing.html#returning-a-view-versus-a-copy\n",
      "  df_cleaned['Currency_Code'] = df_cleaned['Currency'].apply(extract_currency_code)\n"
     ]
    }
   ],
   "source": [
    "# At what companies to developers get paid the most?\n",
    "\n",
    "# Step 0) Clean the data set. Remove any rows that have NaN values in either the Currency, Industry or CompTotal columns. Change Currency column to currency codes.\n",
    "\n",
    "df_cleaned = df[~(df['Currency'].isna() | df['Industry'].isna() | df['CompTotal'].isna())]\n",
    "data_length = len(df_cleaned)\n",
    "\n",
    "def extract_currency_code(entry):\n",
    "    return re.split(r'[ \\t]+', entry)[0]\n",
    "    \n",
    "df_cleaned['Currency_Code'] = df_cleaned['Currency'].apply(extract_currency_code)\n",
    "#print(df_cleaned.head())\n",
    "\n",
    "\n",
    "\n",
    "#print(df['Currency'])\n",
    "#print(df[~df['Currency'].isna()])\n",
    "\n",
    "#print(len(df['Currency']))\n",
    "#print(len(df['Currency'].isnull()))\n",
    "\n",
    "# We should first extract the \"Industry\" answers and comoute the mean sallary for each industry type. (The industry question is multiple choice)\n",
    "\n",
    "#Industry_dict = {}\n",
    "#print(df.head())\n",
    "#num_entries = len(df)\n",
    "\n",
    "#df_cleaned = df[~((df['Industry'].isna()) | df[''])]\n",
    "\n",
    "#for i in range(num_entries):\n",
    "    #"
   ]
  },
  {
   "cell_type": "code",
   "execution_count": 32,
   "id": "6f27c926",
   "metadata": {},
   "outputs": [
    {
     "name": "stdout",
     "output_type": "stream",
     "text": [
      "{'result': 'error', 'documentation': 'https://www.exchangerate-api.com/docs', 'terms-of-use': 'https://www.exchangerate-api.com/terms', 'error-type': 'quota-reached'}\n"
     ]
    }
   ],
   "source": [
    "# Step 1) Since we are dealing with different currencies let's first write a function that converts all currencies to USD.\n",
    "\n",
    "\n",
    "# Function to get the historical exchange rate from Alpha Vantage API\n",
    "def get_exchange_rate(api_key, target_currency='USD'):\n",
    "\n",
    "    url = f'https://v6.exchangerate-api.com/v6/{api_key}/latest/{target_currency}'\n",
    "    response = requests.get(url)\n",
    "    data = response.json()\n",
    "    return data['conversion_rates']\n",
    "\n",
    "rate_dict = get_exchange_rate('Your_API_Key_Here', 'USD') # get latest conversion USD conversion rates\n",
    "    \n",
    "\n",
    "\n",
    "# Define a function to convert amount to USD\n",
    "def currency_conv(api_key, currency_code, amount):\n",
    "    if currency_code == 'USD':\n",
    "        return amount \n",
    "    rate = rate_dict[currency_code]\n",
    "    return amount * rate\n",
    "\n",
    "\n",
    "\n",
    "# Assume you have an API key\n",
    "api_key = 'Your_API_Key_Here'\n",
    "\n",
    "# Apply the conversion function to each row\n",
    "df_cleaned['Comp_USD'] = df_cleaned.apply(lambda row: currency_conv(api_key, row['Currency_Code'], row['CompTotal']), axis=1)\n"
   ]
  },
  {
   "cell_type": "code",
   "execution_count": null,
   "id": "9f0e10d5",
   "metadata": {},
   "outputs": [],
   "source": [
    "# What's the most popular method of learning to code?"
   ]
  },
  {
   "cell_type": "code",
   "execution_count": null,
   "id": "c1147e58",
   "metadata": {},
   "outputs": [],
   "source": [
    "# Are you more likely to get a job as a developer if you have a master's degree?\n",
    "pd.set_option('display.max_rows', None)\n",
    "\n",
    "count_total_master = 0\n",
    "count_dev_master = 0\n",
    "\n",
    "df['EdLevel'] = df['EdLevel'].fillna('')\n",
    "df['Employment'] = df['Employment'].fillna('')\n",
    "\n",
    "for row in range(df.shape[0]):\n",
    "    if 'Master' in df['EdLevel'][row]:\n",
    "        count_total_master += 1\n",
    "        if 'I am a developer' in df['MainBranch'][row]:\n",
    "            count_dev_master += 1\n",
    "print(count_dev_master/count_total_master)\n",
    "    #print(df['EdLevel'][i],df['Employment'][i])"
   ]
  },
  {
   "cell_type": "code",
   "execution_count": null,
   "id": "358714e1",
   "metadata": {},
   "outputs": [],
   "source": [
    "import pandas as pd\n",
    "\n",
    "def get_percentage_devs_with_masters(df):\n",
    "    \"\"\"\n",
    "    Calculate the percentage of developers with a master's degree among those with a master's degree.\n",
    "    \n",
    "    Parameters:\n",
    "        df (pd.DataFrame): Input DataFrame.\n",
    "        \n",
    "    Returns:\n",
    "        float: Percentage of developers with a master's degree.\n",
    "    \"\"\"\n",
    "    pd.set_option('display.max_rows', None)\n",
    "\n",
    "    # Fill NaN values in relevant columns\n",
    "    df['EdLevel'] = df['EdLevel'].fillna('')\n",
    "    df['Employment'] = df['Employment'].fillna('')\n",
    "\n",
    "    # Filter rows where 'Master' is in 'EdLevel'\n",
    "    master_condition = df['EdLevel'].str.contains('Master', case=False)\n",
    "    df_master = df[master_condition]\n",
    "\n",
    "    # Count total and developer master's degrees\n",
    "    count_total_master = df_master.shape[0]\n",
    "    count_dev_master = df_master[df_master['MainBranch'].str.contains('I am a developer')].shape[0]\n",
    "\n",
    "    # Calculate and return the percentage\n",
    "    percentage_dev_master = (count_dev_master / count_total_master) * 100\n",
    "    return percentage_dev_master\n",
    "\n",
    "# Example usage\n",
    "result = get_percentage_devs_with_masters(df)\n",
    "print(result)\n"
   ]
  },
  {
   "cell_type": "code",
   "execution_count": null,
   "id": "05e7a837",
   "metadata": {},
   "outputs": [],
   "source": [
    "print(dir(df['EdLevel']))"
   ]
  },
  {
   "cell_type": "code",
   "execution_count": null,
   "id": "fd286891",
   "metadata": {},
   "outputs": [],
   "source": [
    "print(str(5))\n",
    "x = 6\n",
    "print(dir(str))"
   ]
  }
 ],
 "metadata": {
  "kernelspec": {
   "display_name": "Python 3 (ipykernel)",
   "language": "python",
   "name": "python3"
  },
  "language_info": {
   "codemirror_mode": {
    "name": "ipython",
    "version": 3
   },
   "file_extension": ".py",
   "mimetype": "text/x-python",
   "name": "python",
   "nbconvert_exporter": "python",
   "pygments_lexer": "ipython3",
   "version": "3.10.12"
  }
 },
 "nbformat": 4,
 "nbformat_minor": 5
}
